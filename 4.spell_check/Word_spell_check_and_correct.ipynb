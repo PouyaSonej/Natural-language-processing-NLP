{
 "cells": [
  {
   "cell_type": "code",
   "execution_count": 1,
   "id": "cf7826fe-7b9d-4bd1-b387-a90b4b38653e",
   "metadata": {},
   "outputs": [],
   "source": [
    "import numpy as np\n",
    "from nltk.util import ngrams\n",
    "from textblob import Word,TextBlob\n",
    "import nltk\n",
    "from nltk.corpus import words\n",
    "from nltk.metrics.distance  import edit_distance,jaccard_distance\n",
    "from nltk.tokenize import word_tokenize\n"
   ]
  },
  {
   "cell_type": "markdown",
   "id": "742abb38-23c7-4c16-8b89-0afa498a1f22",
   "metadata": {
    "tags": []
   },
   "source": [
    "## reading words"
   ]
  },
  {
   "cell_type": "code",
   "execution_count": 2,
   "id": "e88e11b6-2bbd-447d-a9a8-f4c1cba705c9",
   "metadata": {},
   "outputs": [],
   "source": [
    "wordss = TextBlob(\"appple seeed librari sama mothre\")\n",
    "Words = wordss.words"
   ]
  },
  {
   "cell_type": "markdown",
   "id": "5051fa9a-1c77-4b94-aa40-57cb1bd80f08",
   "metadata": {
    "tags": []
   },
   "source": [
    "## using correct for 5 words"
   ]
  },
  {
   "cell_type": "code",
   "execution_count": 3,
   "id": "faab9f05-9e30-49c3-ac45-5ab5ff870ecd",
   "metadata": {},
   "outputs": [
    {
     "name": "stdout",
     "output_type": "stream",
     "text": [
      "apple\n",
      "seemed\n",
      "library\n",
      "same\n",
      "mother\n"
     ]
    }
   ],
   "source": [
    "for i in range(len(Words)):\n",
    "    result = Words[i].correct()\n",
    "    print(result)"
   ]
  },
  {
   "cell_type": "markdown",
   "id": "0b81ef21-06d2-4fba-b2eb-37743682c1b6",
   "metadata": {
    "tags": []
   },
   "source": [
    "## using spellcheck for 5 words"
   ]
  },
  {
   "cell_type": "code",
   "execution_count": 4,
   "id": "6db076b5-a39e-43e3-97b7-2a6fd3eb225d",
   "metadata": {},
   "outputs": [
    {
     "name": "stdout",
     "output_type": "stream",
     "text": [
      "[('apple', 1.0)]\n",
      "[('seemed', 0.9353970390309556), ('speed', 0.04172274562584118), ('seed', 0.020188425302826378), ('steed', 0.0013458950201884253), ('sewed', 0.0013458950201884253)]\n",
      "[('library', 1.0)]\n",
      "[('same', 0.9887218045112782), ('samoa', 0.005639097744360902), ('sam', 0.005639097744360902)]\n",
      "[('mother', 1.0)]\n"
     ]
    }
   ],
   "source": [
    "for i in range(len(Words)):\n",
    "    result = Words[i].spellcheck()\n",
    "    print(result)"
   ]
  }
 ],
 "metadata": {
  "kernelspec": {
   "display_name": "Python 3 (ipykernel)",
   "language": "python",
   "name": "python3"
  },
  "language_info": {
   "codemirror_mode": {
    "name": "ipython",
    "version": 3
   },
   "file_extension": ".py",
   "mimetype": "text/x-python",
   "name": "python",
   "nbconvert_exporter": "python",
   "pygments_lexer": "ipython3",
   "version": "3.10.12"
  }
 },
 "nbformat": 4,
 "nbformat_minor": 5
}
