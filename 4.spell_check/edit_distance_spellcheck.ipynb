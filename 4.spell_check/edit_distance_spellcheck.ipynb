{
 "cells": [
  {
   "cell_type": "code",
   "execution_count": null,
   "id": "fd0ef553-3337-4867-a010-baab7e067937",
   "metadata": {},
   "outputs": [],
   "source": [
    "import numpy as np\n",
    "from nltk.util import ngrams\n",
    "from textblob import Word,TextBlob\n",
    "import nltk\n",
    "from nltk.corpus import words\n",
    "from nltk.metrics.distance  import edit_distance,jaccard_distance\n",
    "from nltk.tokenize import word_tokenize\n"
   ]
  },
  {
   "cell_type": "code",
   "execution_count": 5,
   "id": "ca67c8d5-84a9-40d6-b7f9-719b60c5fb64",
   "metadata": {},
   "outputs": [
    {
     "data": {
      "text/plain": [
       "['appple', 'seeed', 'librari', 'sama', 'mothre']"
      ]
     },
     "execution_count": 5,
     "metadata": {},
     "output_type": "execute_result"
    }
   ],
   "source": [
    "Words1 = (\"appple seeed librari sama mothre\")\n",
    "Words1 = word_tokenize(Words1)\n",
    "Words1"
   ]
  },
  {
   "cell_type": "code",
   "execution_count": 6,
   "id": "bc183bef-11e5-4f0d-8eb2-316520f83fac",
   "metadata": {},
   "outputs": [],
   "source": [
    "# Loading correct words using nltk dataset\n",
    "correct_words = words.words()\n",
    "# I used same words as the 5th part\n",
    "incorrect_words=Words1"
   ]
  },
  {
   "cell_type": "markdown",
   "id": "9187f136-8179-405b-8255-f3d10575c916",
   "metadata": {
    "tags": []
   },
   "source": [
    "## edit_distance spellcheck"
   ]
  },
  {
   "cell_type": "code",
   "execution_count": 8,
   "id": "469ca19f-674a-4c0b-a6c1-509d666184e8",
   "metadata": {},
   "outputs": [
    {
     "name": "stdout",
     "output_type": "stream",
     "text": [
      "apple\n",
      "seed\n",
      "library\n",
      "saa\n",
      "mature\n"
     ]
    }
   ],
   "source": [
    "# edit_distance spellcheck\n",
    "for word in incorrect_words:\n",
    "    temp = [(edit_distance(word, w),w) for w in correct_words if w[0]==word[0]]\n",
    "    print(sorted(temp, key = lambda val:val[0])[0][1])"
   ]
  }
 ],
 "metadata": {
  "kernelspec": {
   "display_name": "Python 3 (ipykernel)",
   "language": "python",
   "name": "python3"
  },
  "language_info": {
   "codemirror_mode": {
    "name": "ipython",
    "version": 3
   },
   "file_extension": ".py",
   "mimetype": "text/x-python",
   "name": "python",
   "nbconvert_exporter": "python",
   "pygments_lexer": "ipython3",
   "version": "3.10.12"
  }
 },
 "nbformat": 4,
 "nbformat_minor": 5
}
