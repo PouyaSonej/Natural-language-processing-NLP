{
 "cells": [
  {
   "cell_type": "code",
   "execution_count": null,
   "id": "69ac32d5-588e-4dfc-a88b-38a73932b83c",
   "metadata": {},
   "outputs": [],
   "source": [
    "import numpy as np\n",
    "from nltk.util import ngrams\n",
    "from textblob import Word,TextBlob\n",
    "import nltk\n",
    "from nltk.corpus import words\n",
    "from nltk.metrics.distance  import edit_distance,jaccard_distance\n",
    "from nltk.tokenize import word_tokenize\n"
   ]
  },
  {
   "cell_type": "code",
   "execution_count": 5,
   "id": "d7e9c0b4-81e6-4966-82ff-662933a1e81f",
   "metadata": {},
   "outputs": [
    {
     "data": {
      "text/plain": [
       "['appple', 'seeed', 'librari', 'sama', 'mothre']"
      ]
     },
     "execution_count": 5,
     "metadata": {},
     "output_type": "execute_result"
    }
   ],
   "source": [
    "Words1 = (\"appple seeed librari sama mothre\")\n",
    "Words1 = word_tokenize(Words1)\n",
    "Words1"
   ]
  },
  {
   "cell_type": "code",
   "execution_count": 6,
   "id": "1b6b0569-1fb9-4ccd-a547-ccc2fcc71f86",
   "metadata": {},
   "outputs": [],
   "source": [
    "# Loading correct words using nltk dataset\n",
    "correct_words = words.words()\n",
    "# I used same words as the 5th part\n",
    "incorrect_words=Words1"
   ]
  },
  {
   "cell_type": "markdown",
   "id": "89a00613-a6a0-4744-8e08-64a64c2f4e50",
   "metadata": {
    "tags": []
   },
   "source": [
    "## jaccard_distance spellcheck"
   ]
  },
  {
   "cell_type": "code",
   "execution_count": 7,
   "id": "8ae91721-8470-4081-bab8-9d0219c0e731",
   "metadata": {},
   "outputs": [
    {
     "name": "stdout",
     "output_type": "stream",
     "text": [
      "apple\n",
      "seed\n",
      "librarian\n",
      "samaj\n",
      "moth\n"
     ]
    }
   ],
   "source": [
    "# jaccard_distance spellcheck\n",
    "for word in incorrect_words:\n",
    "    temp = [(jaccard_distance(set(ngrams(word, 2)),\n",
    "                              set(ngrams(w, 2))),w)\n",
    "            for w in correct_words if w[0]==word[0]]\n",
    "    print(sorted(temp, key = lambda val:val[0])[0][1])"
   ]
  }
 ],
 "metadata": {
  "kernelspec": {
   "display_name": "Python 3 (ipykernel)",
   "language": "python",
   "name": "python3"
  },
  "language_info": {
   "codemirror_mode": {
    "name": "ipython",
    "version": 3
   },
   "file_extension": ".py",
   "mimetype": "text/x-python",
   "name": "python",
   "nbconvert_exporter": "python",
   "pygments_lexer": "ipython3",
   "version": "3.10.12"
  }
 },
 "nbformat": 4,
 "nbformat_minor": 5
}
