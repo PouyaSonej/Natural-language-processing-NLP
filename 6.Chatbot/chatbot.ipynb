{
 "cells": [
  {
   "cell_type": "markdown",
   "id": "74449366-67b9-4e0e-a1ca-b1aa0f9567b5",
   "metadata": {
    "tags": []
   },
   "source": [
    "# CHATBOT"
   ]
  },
  {
   "cell_type": "markdown",
   "id": "4b50c2b3-446b-432b-8794-526389d49b90",
   "metadata": {
    "tags": []
   },
   "source": [
    "# libraries"
   ]
  },
  {
   "cell_type": "code",
   "execution_count": 1,
   "id": "12d8d82d-e67a-4b7d-80b1-c1f8649bd577",
   "metadata": {},
   "outputs": [],
   "source": [
    "import io\n",
    "import random\n",
    "import string # to process standard python strings\n",
    "import warnings\n",
    "import numpy as np\n",
    "from sklearn.feature_extraction.text import TfidfVectorizer\n",
    "from sklearn.metrics.pairwise import cosine_similarity\n",
    "import warnings\n",
    "warnings.filterwarnings('ignore')\n"
   ]
  },
  {
   "cell_type": "code",
   "execution_count": 2,
   "id": "432735ed-9e96-4d51-badb-c2145745459b",
   "metadata": {},
   "outputs": [],
   "source": [
    "import nltk\n",
    "from nltk.stem import WordNetLemmatizer"
   ]
  },
  {
   "cell_type": "markdown",
   "id": "847508ce-fb7a-4f74-8ff4-d3bcd9eb7f96",
   "metadata": {
    "tags": []
   },
   "source": [
    "# $corpus$"
   ]
  },
  {
   "cell_type": "code",
   "execution_count": 3,
   "id": "82c848a2-3b0c-44c1-95d8-59ee95c36312",
   "metadata": {},
   "outputs": [],
   "source": [
    "f=open('chatbot.txt','r',errors = 'ignore')\n",
    "raw=f.read()\n",
    "raw = raw.lower()"
   ]
  },
  {
   "cell_type": "markdown",
   "id": "0f282a29-13e6-4dc3-a1c1-c06ff9b99a06",
   "metadata": {
    "tags": []
   },
   "source": [
    "# $pre-processing$"
   ]
  },
  {
   "cell_type": "code",
   "execution_count": 4,
   "id": "3e9e23a8-b5f9-4e5b-bcb2-1bce0f2076f0",
   "metadata": {},
   "outputs": [],
   "source": [
    "sent_tokens = nltk.sent_tokenize(raw)# converts to list of sentences \n",
    "word_tokens = nltk.word_tokenize(raw)# converts to list of words"
   ]
  },
  {
   "cell_type": "code",
   "execution_count": 5,
   "id": "bb30b34f-2f8b-49e6-b0de-5865d9428a84",
   "metadata": {},
   "outputs": [],
   "source": [
    "lemmer = nltk.stem.WordNetLemmatizer()\n",
    "#WordNet is a semantically-oriented dictionary of English included in NLTK.\n",
    "def LemTokens(tokens):\n",
    "    return [lemmer.lemmatize(token) for token in tokens]\n",
    "remove_punct_dict = dict((ord(punct), None) for punct in string.punctuation)\n",
    "\n",
    "def LemNormalize(text):\n",
    "    return LemTokens(nltk.word_tokenize(text.lower().translate(remove_punct_dict)))"
   ]
  },
  {
   "cell_type": "markdown",
   "id": "83ee6362-cadf-47d5-9b6a-5aeb79b71892",
   "metadata": {
    "tags": []
   },
   "source": [
    "# $set-of-symptoms$"
   ]
  },
  {
   "cell_type": "code",
   "execution_count": 6,
   "id": "6369b9fb-1026-4c06-962b-97c1322da4ac",
   "metadata": {},
   "outputs": [],
   "source": [
    "GREETING_INPUTS = (\"hello\", \"hi\", \"greetings\", \"sup\", \"what's up\",\"hey\",)\n",
    "GREETING_RESPONSES = [\"hi\", \"hey\", \"hi there\", \"hello\", \"I am glad! You are talking to me\"]\n",
    "Basic_Q = (\"what is python ?\",\"what is python\",\"what is python?\",\"what is python.\")\n",
    "Basic_Ans = \"Python is a high-level, interpreted, interactive and object-oriented scripting programming language python is designed to be highly readable It uses English keywords frequently where as other languages use punctuation, and it has fewer syntactical constructions than other languages.\"\n",
    "Basic_Om = (\"what is module\",\"what is module.\",\"what is module \",\"what is module ?\",\"what is module?\",\"what is module in python\",\"what is module in python.\",\"what is module in python?\",\"what is module in python ?\")\n",
    "Basic_AnsM = [\"Consider a module to be the same as a code library.\",\"A file containing a set of functions you want to include in your application.\",\"A module can define functions, classes and variables. A module can also include runnable code. Grouping related code into a module makes the code easier to understand and use.\"]\n",
    "\n",
    "# Checking for greeting\n",
    "def greeting(sentence):\n",
    " \n",
    "    for word in sentence.split():\n",
    "        if word.lower() in GREETING_INPUTS:\n",
    "            return random.choice(GREETING_RESPONSES)\n",
    "\n",
    "# Checking for Basic_Q\n",
    "def basic(sentence):\n",
    "    for word in Basic_Q:\n",
    "        if sentence.lower() == word:\n",
    "            return Basic_Ans\n",
    "\n",
    "# Checking for Basic_QM\n",
    "def basicM(sentence):\n",
    "    \"\"\"If user's input is a greeting, return a greeting response\"\"\"\n",
    "    for word in Basic_Om:\n",
    "        if sentence.lower() == word:\n",
    "            return random.choice(Basic_AnsM)\n",
    "        "
   ]
  },
  {
   "cell_type": "markdown",
   "id": "392fa5d1-5c24-4084-a2c1-c79f18d7a69d",
   "metadata": {
    "tags": []
   },
   "source": [
    "# $interface$"
   ]
  },
  {
   "cell_type": "code",
   "execution_count": 7,
   "id": "e95e3446-f6ea-494b-acd0-dd843c2caf62",
   "metadata": {},
   "outputs": [],
   "source": [
    "# def chat(user_response):\n",
    "#     user_response=user_response.lower()\n",
    "#     keyword = \" module \"\n",
    "#     keywordone = \" module\"\n",
    "#     keywordsecond = \"module \""
   ]
  },
  {
   "cell_type": "markdown",
   "id": "67e529fd-de82-494f-a490-12fa39eb2efd",
   "metadata": {
    "tags": []
   },
   "source": [
    "# $NLP$ $model$"
   ]
  },
  {
   "cell_type": "markdown",
   "id": "61b3994a-cbdb-4c47-b6ab-d1ee86a47ffc",
   "metadata": {
    "tags": []
   },
   "source": [
    "## $response$"
   ]
  },
  {
   "cell_type": "code",
   "execution_count": 8,
   "id": "a4f63f4a-d5c5-4260-98fc-4b223de25278",
   "metadata": {},
   "outputs": [],
   "source": [
    "def response(user_response):\n",
    "    robo_response=''\n",
    "    sent_tokens.append(user_response)\n",
    "    TfidfVec = TfidfVectorizer(tokenizer=LemNormalize, stop_words='english')\n",
    "    tfidf = TfidfVec.fit_transform(sent_tokens)\n",
    "    vals = cosine_similarity(tfidf[-1], tfidf)\n",
    "    idx=vals.argsort()[0][-2]\n",
    "    flat = vals.flatten()\n",
    "    flat.sort()\n",
    "    req_tfidf = flat[-2]\n",
    "    if(req_tfidf==0):\n",
    "        robo_response=robo_response+\"I am sorry! I don't understand you\"\n",
    "        return robo_response\n",
    "    else:\n",
    "        robo_response = robo_response+sent_tokens[idx]\n",
    "        return robo_response"
   ]
  },
  {
   "cell_type": "markdown",
   "id": "4f2c0231-4d33-4894-854d-08599a957513",
   "metadata": {
    "tags": []
   },
   "source": [
    "## $Processor$"
   ]
  },
  {
   "cell_type": "code",
   "execution_count": null,
   "id": "f28ebda2-51c3-4311-89c4-23d90d911062",
   "metadata": {},
   "outputs": [
    {
     "name": "stdout",
     "output_type": "stream",
     "text": [
      "Kian: in the name of \"god of rainbow\" \n",
      ". I will answer your queries about Chatbots. If you want to exit, type Bye!\n"
     ]
    },
    {
     "name": "stdin",
     "output_type": "stream",
     "text": [
      " hi\n"
     ]
    },
    {
     "name": "stdout",
     "output_type": "stream",
     "text": [
      "Kian: hi there\n"
     ]
    },
    {
     "name": "stdin",
     "output_type": "stream",
     "text": [
      " hello\n"
     ]
    },
    {
     "name": "stdout",
     "output_type": "stream",
     "text": [
      "Kian: hi there\n"
     ]
    },
    {
     "name": "stdin",
     "output_type": "stream",
     "text": [
      " hello kian chetori?\n"
     ]
    },
    {
     "name": "stdout",
     "output_type": "stream",
     "text": [
      "Kian: hi\n"
     ]
    },
    {
     "name": "stdin",
     "output_type": "stream",
     "text": [
      " hi\n"
     ]
    },
    {
     "name": "stdout",
     "output_type": "stream",
     "text": [
      "Kian: hello\n"
     ]
    },
    {
     "name": "stdin",
     "output_type": "stream",
     "text": [
      " what is module\n"
     ]
    },
    {
     "name": "stdout",
     "output_type": "stream",
     "text": [
      "Kian: A module can define functions, classes and variables. A module can also include runnable code. Grouping related code into a module makes the code easier to understand and use.\n"
     ]
    }
   ],
   "source": [
    "flag=True\n",
    "print(\"Kian: in the name of \\\"god of rainbow\\\" \\n. I will answer your queries about Chatbots. If you want to exit, type Bye!\")\n",
    "while(flag==True):\n",
    "    user_response = input()\n",
    "    user_response=user_response.lower()\n",
    "    if(user_response!='bye'):\n",
    "        if(user_response=='thanks' or user_response=='thank you' ):\n",
    "            flag=False\n",
    "            print(\"Kian: You are welcome..\")\n",
    "        else:\n",
    "                if(greeting(user_response)!=None):\n",
    "                    print(\"Kian: \"+greeting(user_response))\n",
    "                else:\n",
    "                    if(basic(user_response)!=None):\n",
    "                        print(\"Kian: \"+basic(user_response))\n",
    "                    else:\n",
    "                        if(basicM(user_response)!=None):\n",
    "                            print(\"Kian: \"+basicM(user_response))\n",
    "                        else:\n",
    "                            print(\"Kian: \",end=\"\")\n",
    "                            print(response(user_response))\n",
    "                            sent_tokens.remove(user_response)\n",
    "    else:\n",
    "        flag=False\n",
    "        print(\"Kian: Bye! take care :)\")"
   ]
  }
 ],
 "metadata": {
  "kernelspec": {
   "display_name": "Python 3 (ipykernel)",
   "language": "python",
   "name": "python3"
  },
  "language_info": {
   "codemirror_mode": {
    "name": "ipython",
    "version": 3
   },
   "file_extension": ".py",
   "mimetype": "text/x-python",
   "name": "python",
   "nbconvert_exporter": "python",
   "pygments_lexer": "ipython3",
   "version": "3.10.12"
  }
 },
 "nbformat": 4,
 "nbformat_minor": 5
}
