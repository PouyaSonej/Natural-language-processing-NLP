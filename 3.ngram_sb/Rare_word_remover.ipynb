{
 "cells": [
  {
   "cell_type": "code",
   "execution_count": null,
   "id": "00aa7752-b0ea-433c-9fb5-a341b30e6f59",
   "metadata": {},
   "outputs": [],
   "source": [
    "import numpy as np\n",
    "import nltk,io,sys,re\n",
    "from collections import Counter,defaultdict\n",
    "from nltk.tokenize import word_tokenize,sent_tokenize\n",
    "from nltk.util import ngrams\n",
    "import math, collections"
   ]
  },
  {
   "cell_type": "code",
   "execution_count": null,
   "id": "9117ca2a-8f54-4f72-9d41-e2733035062c",
   "metadata": {},
   "outputs": [],
   "source": [
    "def remove_rare_words(data, vocab, mincount = 1):\n",
    "    '''\n",
    "    Parameters:\n",
    "    data (list of lists): each list is a sentence of the text \n",
    "    vocab (dictionary): {word: no of times it appears in the text}\n",
    "    mincount(int): the minimum count \n",
    "    \n",
    "    Returns: \n",
    "    data_with_unk(list of lists): data after replacing rare words with <unk> token\n",
    "    '''\n",
    "    # replace words in data that are not in the vocab \n",
    "    # or have a count that is below mincount\n",
    "    data_with_unk = []\n",
    "    ## FILL CODE\n",
    "    for sentence in data:\n",
    "        sentence_with_unk = []\n",
    "        for word in sentence:\n",
    "            if word in vocab and vocab[word]>mincount:\n",
    "                sentence_with_unk.append(word)\n",
    "            else:\n",
    "                sentence_with_unk.append('<unk>')\n",
    "        data_with_unk.append(sentence_with_unk)\n",
    "    \n",
    "    return data_with_unk\n"
   ]
  },
  {
   "cell_type": "code",
   "execution_count": null,
   "id": "9bf39cde-9062-4629-81f9-6f479655da04",
   "metadata": {},
   "outputs": [],
   "source": [
    "print(\"remove rare words\")\n",
    "train_data = remove_rare_words(train_data, vocab, mincount = 1)\n",
    "valid_data = remove_rare_words(valid_data, vocab, mincount = 1)"
   ]
  }
 ],
 "metadata": {
  "kernelspec": {
   "display_name": "Python 3 (ipykernel)",
   "language": "python",
   "name": "python3"
  },
  "language_info": {
   "codemirror_mode": {
    "name": "ipython",
    "version": 3
   },
   "file_extension": ".py",
   "mimetype": "text/x-python",
   "name": "python",
   "nbconvert_exporter": "python",
   "pygments_lexer": "ipython3",
   "version": "3.10.12"
  }
 },
 "nbformat": 4,
 "nbformat_minor": 5
}
