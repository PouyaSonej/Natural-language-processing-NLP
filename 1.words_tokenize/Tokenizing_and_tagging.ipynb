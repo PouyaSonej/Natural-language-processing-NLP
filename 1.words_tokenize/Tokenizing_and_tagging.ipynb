{
 "cells": [
  {
   "cell_type": "code",
   "execution_count": 1,
   "id": "c02eed01-975b-436c-bbd8-02f2aecbdde5",
   "metadata": {},
   "outputs": [],
   "source": [
    "import nltk\n",
    "import numpy as np\n",
    "import pandas as pd\n",
    "from nltk.tokenize import word_tokenize,sent_tokenize\n",
    "from collections import Counter\n",
    "import re\n",
    "import string"
   ]
  },
  {
   "cell_type": "markdown",
   "id": "76f13a10-fef1-4623-ba10-ad3c6eb763b3",
   "metadata": {},
   "source": [
    "# reading"
   ]
  },
  {
   "cell_type": "code",
   "execution_count": 2,
   "id": "8845dd5f-fe6b-4009-8fbb-874c154bce25",
   "metadata": {},
   "outputs": [],
   "source": [
    "#reading text file\n",
    "myfile = open(\"T1.txt\")\n",
    "txt = myfile.read()\n"
   ]
  },
  {
   "cell_type": "markdown",
   "id": "93e644e9-e04c-4b5b-b8d8-d18e92cf0229",
   "metadata": {},
   "source": [
    "# tokenizing and Tagging"
   ]
  },
  {
   "cell_type": "code",
   "execution_count": 3,
   "id": "2c9b3608-97c3-424b-be73-a9054441ac8a",
   "metadata": {},
   "outputs": [],
   "source": [
    "\"\"\"\n",
    "first I've removed the punctuations ,then normalzing it while using sent_tokenize for chunking sentences\n",
    "the tokenized words by using word_tokenize ,imported its tags into \"words\"\n",
    "\"\"\"\n",
    "#removing punctuations\n",
    "txt = re.sub(r'[^\\w\\s]','',txt)\n",
    "#normalizing and tokenizing sentenceses\n",
    "sentences = nltk.tokenize.sent_tokenize(txt.lower())\n",
    "\"\"\"\n",
    "by removing punctuation ,it Will only give one sentece in output\n",
    "\n",
    "\"\"\"\n",
    "#tokenizing words\n",
    "tokenized_word = [nltk.tokenize.word_tokenize(s) for s in sentences]\n",
    "#getting each tokens pos tag\n",
    "words = [nltk.pos_tag(e) for e in tokenized_word]\n"
   ]
  },
  {
   "cell_type": "markdown",
   "id": "125186a1-7878-4a7b-8282-b50b2c488348",
   "metadata": {},
   "source": [
    "# definition"
   ]
  },
  {
   "cell_type": "code",
   "execution_count": 4,
   "id": "453774cb-cd95-4e94-9a66-6d64f77dd7d3",
   "metadata": {
    "scrolled": true
   },
   "outputs": [
    {
     "name": "stdout",
     "output_type": "stream",
     "text": [
      "$: dollar\n",
      "    $ -$ --$ A$ C$ HK$ M$ NZ$ S$ U.S.$ US$\n",
      "'': closing quotation mark\n",
      "    ' ''\n",
      "(: opening parenthesis\n",
      "    ( [ {\n",
      "): closing parenthesis\n",
      "    ) ] }\n",
      ",: comma\n",
      "    ,\n",
      "--: dash\n",
      "    --\n",
      ".: sentence terminator\n",
      "    . ! ?\n",
      ":: colon or ellipsis\n",
      "    : ; ...\n",
      "CC: conjunction, coordinating\n",
      "    & 'n and both but either et for less minus neither nor or plus so\n",
      "    therefore times v. versus vs. whether yet\n",
      "CD: numeral, cardinal\n",
      "    mid-1890 nine-thirty forty-two one-tenth ten million 0.5 one forty-\n",
      "    seven 1987 twenty '79 zero two 78-degrees eighty-four IX '60s .025\n",
      "    fifteen 271,124 dozen quintillion DM2,000 ...\n",
      "DT: determiner\n",
      "    all an another any both del each either every half la many much nary\n",
      "    neither no some such that the them these this those\n",
      "EX: existential there\n",
      "    there\n",
      "FW: foreign word\n",
      "    gemeinschaft hund ich jeux habeas Haementeria Herr K'ang-si vous\n",
      "    lutihaw alai je jour objets salutaris fille quibusdam pas trop Monte\n",
      "    terram fiche oui corporis ...\n",
      "IN: preposition or conjunction, subordinating\n",
      "    astride among uppon whether out inside pro despite on by throughout\n",
      "    below within for towards near behind atop around if like until below\n",
      "    next into if beside ...\n",
      "JJ: adjective or numeral, ordinal\n",
      "    third ill-mannered pre-war regrettable oiled calamitous first separable\n",
      "    ectoplasmic battery-powered participatory fourth still-to-be-named\n",
      "    multilingual multi-disciplinary ...\n",
      "JJR: adjective, comparative\n",
      "    bleaker braver breezier briefer brighter brisker broader bumper busier\n",
      "    calmer cheaper choosier cleaner clearer closer colder commoner costlier\n",
      "    cozier creamier crunchier cuter ...\n",
      "JJS: adjective, superlative\n",
      "    calmest cheapest choicest classiest cleanest clearest closest commonest\n",
      "    corniest costliest crassest creepiest crudest cutest darkest deadliest\n",
      "    dearest deepest densest dinkiest ...\n",
      "LS: list item marker\n",
      "    A A. B B. C C. D E F First G H I J K One SP-44001 SP-44002 SP-44005\n",
      "    SP-44007 Second Third Three Two * a b c d first five four one six three\n",
      "    two\n",
      "MD: modal auxiliary\n",
      "    can cannot could couldn't dare may might must need ought shall should\n",
      "    shouldn't will would\n",
      "NN: noun, common, singular or mass\n",
      "    common-carrier cabbage knuckle-duster Casino afghan shed thermostat\n",
      "    investment slide humour falloff slick wind hyena override subhumanity\n",
      "    machinist ...\n",
      "NNP: noun, proper, singular\n",
      "    Motown Venneboerger Czestochwa Ranzer Conchita Trumplane Christos\n",
      "    Oceanside Escobar Kreisler Sawyer Cougar Yvette Ervin ODI Darryl CTCA\n",
      "    Shannon A.K.C. Meltex Liverpool ...\n",
      "NNPS: noun, proper, plural\n",
      "    Americans Americas Amharas Amityvilles Amusements Anarcho-Syndicalists\n",
      "    Andalusians Andes Andruses Angels Animals Anthony Antilles Antiques\n",
      "    Apache Apaches Apocrypha ...\n",
      "NNS: noun, common, plural\n",
      "    undergraduates scotches bric-a-brac products bodyguards facets coasts\n",
      "    divestitures storehouses designs clubs fragrances averages\n",
      "    subjectivists apprehensions muses factory-jobs ...\n",
      "PDT: pre-determiner\n",
      "    all both half many quite such sure this\n",
      "POS: genitive marker\n",
      "    ' 's\n",
      "PRP: pronoun, personal\n",
      "    hers herself him himself hisself it itself me myself one oneself ours\n",
      "    ourselves ownself self she thee theirs them themselves they thou thy us\n",
      "PRP$: pronoun, possessive\n",
      "    her his mine my our ours their thy your\n",
      "RB: adverb\n",
      "    occasionally unabatingly maddeningly adventurously professedly\n",
      "    stirringly prominently technologically magisterially predominately\n",
      "    swiftly fiscally pitilessly ...\n",
      "RBR: adverb, comparative\n",
      "    further gloomier grander graver greater grimmer harder harsher\n",
      "    healthier heavier higher however larger later leaner lengthier less-\n",
      "    perfectly lesser lonelier longer louder lower more ...\n",
      "RBS: adverb, superlative\n",
      "    best biggest bluntest earliest farthest first furthest hardest\n",
      "    heartiest highest largest least less most nearest second tightest worst\n",
      "RP: particle\n",
      "    aboard about across along apart around aside at away back before behind\n",
      "    by crop down ever fast for forth from go high i.e. in into just later\n",
      "    low more off on open out over per pie raising start teeth that through\n",
      "    under unto up up-pp upon whole with you\n",
      "SYM: symbol\n",
      "    % & ' '' ''. ) ). * + ,. < = > @ A[fj] U.S U.S.S.R * ** ***\n",
      "TO: \"to\" as preposition or infinitive marker\n",
      "    to\n",
      "UH: interjection\n",
      "    Goodbye Goody Gosh Wow Jeepers Jee-sus Hubba Hey Kee-reist Oops amen\n",
      "    huh howdy uh dammit whammo shucks heck anyways whodunnit honey golly\n",
      "    man baby diddle hush sonuvabitch ...\n",
      "VB: verb, base form\n",
      "    ask assemble assess assign assume atone attention avoid bake balkanize\n",
      "    bank begin behold believe bend benefit bevel beware bless boil bomb\n",
      "    boost brace break bring broil brush build ...\n",
      "VBD: verb, past tense\n",
      "    dipped pleaded swiped regummed soaked tidied convened halted registered\n",
      "    cushioned exacted snubbed strode aimed adopted belied figgered\n",
      "    speculated wore appreciated contemplated ...\n",
      "VBG: verb, present participle or gerund\n",
      "    telegraphing stirring focusing angering judging stalling lactating\n",
      "    hankerin' alleging veering capping approaching traveling besieging\n",
      "    encrypting interrupting erasing wincing ...\n",
      "VBN: verb, past participle\n",
      "    multihulled dilapidated aerosolized chaired languished panelized used\n",
      "    experimented flourished imitated reunifed factored condensed sheared\n",
      "    unsettled primed dubbed desired ...\n",
      "VBP: verb, present tense, not 3rd person singular\n",
      "    predominate wrap resort sue twist spill cure lengthen brush terminate\n",
      "    appear tend stray glisten obtain comprise detest tease attract\n",
      "    emphasize mold postpone sever return wag ...\n",
      "VBZ: verb, present tense, 3rd person singular\n",
      "    bases reconstructs marks mixes displeases seals carps weaves snatches\n",
      "    slumps stretches authorizes smolders pictures emerges stockpiles\n",
      "    seduces fizzes uses bolsters slaps speaks pleads ...\n",
      "WDT: WH-determiner\n",
      "    that what whatever which whichever\n",
      "WP: WH-pronoun\n",
      "    that what whatever whatsoever which who whom whosoever\n",
      "WP$: WH-pronoun, possessive\n",
      "    whose\n",
      "WRB: Wh-adverb\n",
      "    how however whence whenever where whereby whereever wherein whereof why\n",
      "``: opening quotation mark\n",
      "    ` ``\n"
     ]
    }
   ],
   "source": [
    "nltk.help.upenn_tagset()"
   ]
  },
  {
   "cell_type": "code",
   "execution_count": 5,
   "id": "7fc6ded8-beaa-464e-a93d-dfca4fd1867c",
   "metadata": {},
   "outputs": [
    {
     "name": "stdout",
     "output_type": "stream",
     "text": [
      "VBP: verb, present tense, not 3rd person singular\n",
      "    predominate wrap resort sue twist spill cure lengthen brush terminate\n",
      "    appear tend stray glisten obtain comprise detest tease attract\n",
      "    emphasize mold postpone sever return wag ...\n"
     ]
    }
   ],
   "source": [
    "#VBP definition\n",
    "nltk.help.upenn_tagset(\"VBP\")\n"
   ]
  },
  {
   "cell_type": "code",
   "execution_count": 6,
   "id": "899d59a4-0173-47f5-8744-526b6c59b82f",
   "metadata": {},
   "outputs": [
    {
     "name": "stdout",
     "output_type": "stream",
     "text": [
      "VBD: verb, past tense\n",
      "    dipped pleaded swiped regummed soaked tidied convened halted registered\n",
      "    cushioned exacted snubbed strode aimed adopted belied figgered\n",
      "    speculated wore appreciated contemplated ...\n",
      "VBN: verb, past participle\n",
      "    multihulled dilapidated aerosolized chaired languished panelized used\n",
      "    experimented flourished imitated reunifed factored condensed sheared\n",
      "    unsettled primed dubbed desired ...\n"
     ]
    }
   ],
   "source": [
    "#VBG definition\n",
    "nltk.help.upenn_tagset(\"VBD\")\n",
    "nltk.help.upenn_tagset(\"VBN\")"
   ]
  },
  {
   "cell_type": "markdown",
   "id": "eda41ca0-d300-48ec-98e2-a4db5a3fd2fb",
   "metadata": {},
   "source": [
    "# outputs"
   ]
  },
  {
   "cell_type": "code",
   "execution_count": 7,
   "id": "71b14d50-89c9-4b4c-8d1c-f64b5e27ec04",
   "metadata": {},
   "outputs": [
    {
     "name": "stdout",
     "output_type": "stream",
     "text": [
      "\u001b[1mthe number of past tense verbs :  76\n",
      "\u001b[0mlist of past verbs :  ['heard', 'rendered', 'called', 'was', 'appeared', 'declared', 'came', 'lagged', 'happened', 'was', 'said', 'was', 'changed', 'became', 'led', 'pretrained', 'prompted', 'said', 'had', 'said', 'began', 'was', 'worked', 'had', 'were', 'was', 'was', 'watched', 'were', 'was', 'said', 'were', 'started', 'made', 'was', 'dubbed', 'was', 'said', 'knew', 'divided', 'classified', 'suggested', 'believed', 'said', 'worked', 'said', 'was', 'reached', 'demonstrated', 'wanted', 'did', 'identified', 'said', 'were', 'spied', 'tried', 'got', 'did', 'lost', 'was', 'processed', 'grew', 'said', 'wang', 'trained', 'synthesized', 'score', 'said', 'was', 'said', 'had', 'said', 'was', 'said', 'wang', 'said']\n"
     ]
    }
   ],
   "source": [
    "#num of VBDs and its list\n",
    "X =[]\n",
    "VBD_sum = 0\n",
    "for z in range(len(words)) :\n",
    "    for i in range(len(words[z])) :\n",
    "            if(words[z][i][1] == 'VBD') :\n",
    "                VBD_sum += 1\n",
    "                X.append(words[z][i][0])\n",
    "print('\\033[1m'+(\"the number of past tense verbs : \" ),(VBD_sum))\n",
    "print('\\033[0m'+\"list of past verbs : \" , X)"
   ]
  },
  {
   "cell_type": "code",
   "execution_count": 8,
   "id": "020709c2-7ad4-40a6-b47d-4d904979d201",
   "metadata": {},
   "outputs": [
    {
     "name": "stdout",
     "output_type": "stream",
     "text": [
      "\u001b[1mthe number of past participle verbs :  23\n",
      "\u001b[0mlist of past verbs :  ['designed', 'begun', 'grouped', 'become', 'related', 'propelled', 'considered', 'related', 'inspired', 'presented', 'proposed', 'discrete', 'made', 'expected', 'replaced', 'simpler', 'conceived', 'based', 'presented', 'created', 'generated', 'overcome', 'ignited']\n"
     ]
    }
   ],
   "source": [
    "#num of VBNs and its list\n",
    "X =[]\n",
    "VBN_sum = 0\n",
    "for z in range(len(words)) :\n",
    "    for i in range(len(words[z])) :\n",
    "            if(words[z][i][1] == 'VBN') :\n",
    "                VBN_sum += 1\n",
    "                X.append(words[z][i][0])\n",
    "print('\\033[1m'+(\"the number of past participle verbs : \" ),(VBN_sum))\n",
    "print('\\033[0m'+\"list of past verbs : \" , X)"
   ]
  },
  {
   "cell_type": "code",
   "execution_count": 9,
   "id": "9b7cd510-6a64-4dc7-b831-d03644fb2947",
   "metadata": {},
   "outputs": [
    {
     "name": "stdout",
     "output_type": "stream",
     "text": [
      "\u001b[1mthe number of present tense verbs :  59\n",
      "\u001b[0mlist of present tense verbs :  ['going', 'seeing', 'playing', 'training', 'existing', 'impacting', 'training', 'analyzing', 'predicting', 'unfolding', 'proving', 'emerging', 'processing', 'planning', 'including', 'selfdriving', 'expanding', 'working', 'teaching', 'applying', 'working', 'representing', 'piling', 'going', 'getting', 'wondering', 'allowing', 'computing', 'depending', 'processing', 'applying', 'spitting', 'propelling', 'existing', 'being', 'examining', 'being', 'identifying', 'building', 'starting', 'zooming', 'confusing', 'converting', 'achieving', 'resulting', 'making', 'coming', 'inventing', 'according', 'evaluating', 'generating', 'replacing', 'processing', 'combining', 'listening', 'emerging', 'getting', 'including', 'tantalizing']\n"
     ]
    }
   ],
   "source": [
    "#num of VBGs and its list\n",
    "\n",
    "X =[]\n",
    "VBG_sum = 0\n",
    "for z in range(len(words)) :\n",
    "    for i in range(len(words[z])) :\n",
    "            if(words[z][i][1] == 'VBG') :\n",
    "                VBG_sum += 1\n",
    "                X.append(words[z][i][0])\n",
    "print('\\033[1m'+(\"the number of present tense verbs : \" ),(VBG_sum))\n",
    "print('\\033[0m'+\"list of present tense verbs : \" , X)"
   ]
  }
 ],
 "metadata": {
  "kernelspec": {
   "display_name": "Python 3 (ipykernel)",
   "language": "python",
   "name": "python3"
  },
  "language_info": {
   "codemirror_mode": {
    "name": "ipython",
    "version": 3
   },
   "file_extension": ".py",
   "mimetype": "text/x-python",
   "name": "python",
   "nbconvert_exporter": "python",
   "pygments_lexer": "ipython3",
   "version": "3.10.12"
  }
 },
 "nbformat": 4,
 "nbformat_minor": 5
}
